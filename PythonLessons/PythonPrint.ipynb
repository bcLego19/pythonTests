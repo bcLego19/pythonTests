{
 "cells": [
  {
   "cell_type": "code",
   "execution_count": 20,
   "metadata": {},
   "outputs": [
    {
     "name": "stdout",
     "output_type": "stream",
     "text": [
      "This is a print statement:\n",
      "print('Hello World!')\n",
      "\n",
      "The print statement can accept multiple types.\n",
      "strings: \n",
      "Sample string\n",
      "numbers: \n",
      "10\n",
      "booleans: \n",
      "True\n",
      "arrays: \n",
      "[1, 2, 3]\n",
      "\n",
      "Print statements can concatenate strings using:\n",
      "print(string1+string)\n",
      "Ex: print('Sample string' + '10')\n",
      "Sample string10\n",
      "\n",
      "Depending on what you input, the results can be different.\n",
      "For example, lets try print(10+20):\n",
      "30\n",
      "\n",
      "Now lets try print([1,2]+[3,4]):\n",
      "[1, 2, 3, 4]\n",
      "\n",
      "This will work for the same type, but casting is required for different types.\n",
      "If I were to try print(\"Number: \"+10), this would give the following error:\n",
      "TypeError: can only concatenate str (not \"int\") to str\n"
     ]
    }
   ],
   "source": [
    "print(\"This is a print statement:\")\n",
    "print(\"print('Hello World!')\\n\")\n",
    "print(\"The print statement can accept multiple types.\")\n",
    "var = 'Sample string'\n",
    "num = 10\n",
    "boolean = True\n",
    "arr = [1,2,3]\n",
    "print(\"strings: \")\n",
    "print(var)\n",
    "print(\"numbers: \")\n",
    "print(num)\n",
    "print(\"booleans: \")\n",
    "print(boolean)\n",
    "print(\"arrays: \")\n",
    "print(arr)\n",
    "print()\n",
    "print('Print statements can concatenate strings using:')\n",
    "print('print(string1+string)')\n",
    "print(\"Ex: print('Sample string' + '10')\")\n",
    "print('Sample string'+'10\\n')\n",
    "print(\"Depending on what you input, the results can be different.\")\n",
    "print(\"For example, lets try print(10+20):\")\n",
    "print(10+20)\n",
    "print('\\nNow lets try print([1,2]+[3,4]):')\n",
    "print([1,2]+[3,4])\n",
    "print('\\nThis will work for the same type, but casting is required for different types.')\n",
    "print('If I were to try print(\"Number: \"+10), this would give the following error:')\n",
    "print('TypeError: can only concatenate str (not \"int\") to str')"
   ]
  }
 ],
 "metadata": {
  "kernelspec": {
   "display_name": "Python 3",
   "language": "python",
   "name": "python3"
  },
  "language_info": {
   "codemirror_mode": {
    "name": "ipython",
    "version": 3
   },
   "file_extension": ".py",
   "mimetype": "text/x-python",
   "name": "python",
   "nbconvert_exporter": "python",
   "pygments_lexer": "ipython3",
   "version": "3.10.4"
  },
  "orig_nbformat": 4
 },
 "nbformat": 4,
 "nbformat_minor": 2
}
